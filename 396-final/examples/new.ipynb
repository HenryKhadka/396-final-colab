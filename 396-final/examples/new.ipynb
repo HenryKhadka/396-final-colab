{
 "cells": [
  {
   "cell_type": "code",
   "execution_count": 1,
   "metadata": {},
   "outputs": [
    {
     "data": {
      "text/plain": [
       "true"
      ]
     },
     "metadata": {},
     "output_type": "display_data"
    }
   ],
   "source": [
    "using PrivateMultiplicativeWeights\n",
    "using Distributions\n",
    "using PyPlot\n",
    "pygui(true)\n"
   ]
  },
  {
   "cell_type": "code",
   "execution_count": 3,
   "metadata": {},
   "outputs": [
    {
     "data": {
      "image/png": "[encoded data removed]",
      "text/plain": [
       "Figure(PyObject <Figure size 640x480 with 1 Axes>)"
      ]
     },
     "metadata": {},
     "output_type": "display_data"
    }
   ],
   "source": [
    "d_continuous = Truncated(MixtureModel(Normal, [(.275, .075), (.65, .1)], [0.65, 0.35]), 0, 1)\n",
    "xs = range(d_continuous.lower, stop = d_continuous.upper, length = 300)\n",
    "ys = pdf(d_continuous, xs)\n",
    "#xs = [1, 2, 3]\n",
    "#ys = [1, 2, 3]\n",
    "p = plot(xs, ys)\n",
    "display(gcf())"
   ]
  },
  {
   "cell_type": "code",
   "execution_count": 4,
   "metadata": {},
   "outputs": [
    {
     "ename": "MethodError",
     "evalue": "MethodError: no method matching round(::Type{Int64}, ::Vector{Float64})\n\nClosest candidates are:\n  round(::Type{T}, !Matched::BigFloat, !Matched::RoundingMode) where T<:Union{Signed, Unsigned}\n   @ Base mpfr.jl:351\n  round(::Type{<:Integer}, !Matched::BigFloat, !Matched::RoundingMode)\n   @ Base mpfr.jl:355\n  round(::Type{T}, !Matched::BigFloat, !Matched::Union{Base.MPFR.MPFRRoundingMode, RoundingMode}) where T<:Union{Signed, Unsigned}\n   @ Base mpfr.jl:335\n  ...\n",
     "output_type": "error",
     "traceback": [
      "MethodError: no method matching round(::Type{Int64}, ::Vector{Float64})\n",
      "\n",
      "Closest candidates are:\n",
      "  round(::Type{T}, !Matched::BigFloat, !Matched::RoundingMode) where T<:Union{Signed, Unsigned}\n",
      "   @ Base mpfr.jl:351\n",
      "  round(::Type{<:Integer}, !Matched::BigFloat, !Matched::RoundingMode)\n",
      "   @ Base mpfr.jl:355\n",
      "  round(::Type{T}, !Matched::BigFloat, !Matched::Union{Base.MPFR.MPFRRoundingMode, RoundingMode}) where T<:Union{Signed, Unsigned}\n",
      "   @ Base mpfr.jl:335\n",
      "  ...\n",
      "\n",
      "\n",
      "Stacktrace:\n",
      " [1] histogram_from_sample(samples::Vector{Float64}, num_bins::Int64)\n",
      "   @ Main ~/Documents/396-final/396-final/examples/new.ipynb:9\n",
      " [2] top-level scope\n",
      "   @ ~/Documents/396-final/396-final/examples/new.ipynb:15"
     ]
    }
   ],
   "source": [
    "num_samples = 1000\n",
    "domain_size = 100\n",
    "samples = rand(d_continuous, num_samples)\n",
    "\n",
    "function histogram_from_sample(samples, num_bins)\n",
    "    @assert 0 <= minimum(samples)\n",
    "    @assert maximum(samples) <= 1\n",
    "    h = zeros(num_bins)\n",
    "    for x in round(Int64, samples*num_bins)\n",
    "        h[x] += 1\n",
    "    end\n",
    "    collect(1:num_bins)/num_bins, h\n",
    "end\n",
    "\n",
    "xs, ys = histogram_from_sample(samples, domain_size)\n",
    "bar(xs, ys, width=1/domain_size);"
   ]
  },
  {
   "cell_type": "markdown",
   "metadata": {},
   "source": [
    "# Private Multiplicative Weights for Histograms"
   ]
  },
  {
   "cell_type": "code",
   "execution_count": null,
   "metadata": {},
   "outputs": [],
   "source": [
    "using PrivateMultiplicativeWeights\n",
    "using Distributions\n",
    "using PyPlot\n",
    "pygui(true)\n"
   ]
  },
  {
   "cell_type": "markdown",
   "metadata": {},
   "source": [
    "## Example: Approximating a mixture of two Gaussians."
   ]
  },
  {
   "cell_type": "markdown",
   "metadata": {},
   "source": [
    "We start from a continuous mixture of two Gaussians."
   ]
  },
  {
   "cell_type": "code",
   "execution_count": null,
   "metadata": {},
   "outputs": [],
   "source": [
    "d_continuous = Truncated(MixtureModel(Normal, [(.275, .075), (.65, .1)], [0.65, 0.35]), 0, 1)\n",
    "xs = range(d_continuous.lower, stop = d_continuous.upper, length = 300)\n",
    "ys = pdf(d_continuous, xs)\n",
    "#xs = [1, 2, 3]\n",
    "#ys = [1, 2, 3]\n",
    "p = plot(xs, ys)\n",
    "display(gcf())"
   ]
  },
  {
   "cell_type": "markdown",
   "metadata": {},
   "source": [
    "### Non-private histogram approximation"
   ]
  },
  {
   "cell_type": "markdown",
   "metadata": {},
   "source": []
  },
  {
   "cell_type": "code",
   "execution_count": null,
   "metadata": {},
   "outputs": [],
   "source": [
    "num_samples = 1000\n",
    "domain_size = 100\n",
    "samples = rand(d_continuous, num_samples)\n",
    "\n",
    "function histogram_from_sample(samples, num_bins)\n",
    "    @assert 0 <= minimum(samples)\n",
    "    @assert maximum(samples) <= 1\n",
    "    h = zeros(num_bins)\n",
    "    for x in round(Int64, samples*num_bins)\n",
    "        h[x] += 1\n",
    "    end\n",
    "    collect(1:num_bins)/num_bins, h\n",
    "end\n",
    "\n",
    "xs, ys = histogram_from_sample(samples, domain_size)\n",
    "bar(xs, ys, width=1/domain_size);"
   ]
  },
  {
   "cell_type": "markdown",
   "metadata": {},
   "source": [
    "### Private histogram approximation"
   ]
  },
  {
   "cell_type": "markdown",
   "metadata": {},
   "source": [
    "Obtaining a private approximation is as easy as running the following command."
   ]
  },
  {
   "cell_type": "code",
   "execution_count": null,
   "metadata": {},
   "outputs": [],
   "source": [
    "mw = mwem(SeriesRangeQueries(domain_size), Histogram(ys/sum(ys), num_samples));\n",
    "bar(xs, mw.synthetic.weights*num_samples, align=\"center\", color=\"red\", alpha=0.3, width=1/domain_size);"
   ]
  },
  {
   "cell_type": "markdown",
   "metadata": {},
   "source": [
    "Above we ran `mwem` with the default parameters corresponding to `10` iterations and `epsilon=1.0` per iteration. We can adjust these parameters as follows:"
   ]
  },
  {
   "cell_type": "code",
   "execution_count": null,
   "metadata": {},
   "outputs": [],
   "source": [
    "mw = mwem(SeriesRangeQueries(domain_size), Histogram(ys/sum(ys), num_samples), MWParameters(epsilon=0.1, iterations=8));\n",
    "bar(xs, mw.synthetic.weights*num_samples, align=\"center\", color=\"red\", alpha=0.3, width=1/domain_size);"
   ]
  },
  {
   "cell_type": "markdown",
   "metadata": {},
   "source": [
    "### Side-by-side comparison"
   ]
  },
  {
   "cell_type": "code",
   "execution_count": null,
   "metadata": {},
   "outputs": [],
   "source": [
    "bar(xs, ys, 1/domain_size);\n",
    "bar(xs, mw.synthetic.weights*num_samples, align=\"center\", color=\"red\", alpha=0.3, width=1/domain_size);"
   ]
  },
  {
   "cell_type": "code",
   "execution_count": null,
   "metadata": {},
   "outputs": [],
   "source": [
    "mw = mwem(SeriesRangeQueries(domain_size), Histogram(ys/sum(ys), num_samples));\n",
    "bar(xs, mw.synthetic.weights*num_samples, align=\"center\", color=\"red\", alpha=0.3, width=1/domain_size);"
   ]
  },
  {
   "cell_type": "code",
   "execution_count": 5,
   "metadata": {},
   "outputs": [
    {
     "ename": "AssertionError",
     "evalue": "AssertionError: queries.domain == length(h.weights)",
     "output_type": "error",
     "traceback": [
      "AssertionError: queries.domain == length(h.weights)\n",
      "\n",
      "Stacktrace:\n",
      " [1] evaluate(queries::SeriesRangeQueries, h::Histogram)\n",
      "   @ PrivateMultiplicativeWeights ~/Documents/396-final/396-final/src/rangequeries.jl:104\n",
      " [2] initialize(queries::SeriesRangeQueries, data::Histogram, ps::MWParameters)\n",
      "   @ PrivateMultiplicativeWeights ~/Documents/396-final/396-final/src/histogram.jl:70\n",
      " [3] macro expansion\n",
      "   @ ./timing.jl:395 [inlined]\n",
      " [4] mwem(queries::SeriesRangeQueries, data::Histogram, ps::MWParameters)\n",
      "   @ PrivateMultiplicativeWeights ~/Documents/396-final/396-final/src/mwem.jl:60\n",
      " [5] top-level scope\n",
      "   @ ~/Documents/396-final/396-final/examples/new.ipynb:1"
     ]
    }
   ],
   "source": [
    "mw, mean_errors, max_errors, times = mwem(SeriesRangeQueries(domain_size), Histogram(ys/sum(ys), num_samples), MWParameters(epsilon=0.1, iterations=8));\n",
    "bar(xs, mw.synthetic.weights*num_samples, align=\"center\", color=\"red\", alpha=0.3, width=1/domain_size);"
   ]
  }
 ],
 "metadata": {
  "kernelspec": {
   "display_name": "Julia 1.10.3",
   "language": "julia",
   "name": "julia-1.10"
  },
  "language_info": {
   "file_extension": ".jl",
   "mimetype": "application/julia",
   "name": "julia",
   "version": "1.10.3"
  }
 },
 "nbformat": 4,
 "nbformat_minor": 2
}
